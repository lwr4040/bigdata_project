{
  "nbformat": 4,
  "nbformat_minor": 0,
  "metadata": {
    "colab": {
      "name": "data structure 01.ipynb",
      "provenance": []
    },
    "kernelspec": {
      "name": "python3",
      "display_name": "Python 3"
    },
    "language_info": {
      "name": "python"
    }
  },
  "cells": [
    {
      "cell_type": "code",
      "source": [
        "score= [10,20,30,40,50]\n",
        "sum=0\n",
        "for s in score:\n",
        "  sum+=s\n",
        "print(\"총점: \",sum)"
      ],
      "metadata": {
        "colab": {
          "base_uri": "https://localhost:8080/"
        },
        "id": "OKrrAQyujJJR",
        "outputId": "c953fa23-fe1d-4af0-a9d9-b7554da6ff42"
      },
      "execution_count": null,
      "outputs": [
        {
          "output_type": "stream",
          "name": "stdout",
          "text": [
            "총점:  150\n"
          ]
        }
      ]
    },
    {
      "cell_type": "code",
      "source": [
        "nums= [0,1,2,3,4,5,6,7,8,9]\n",
        "print(nums[2:3])\n",
        "print(nums[:4])\n",
        "print(nums[6:])\n",
        "print(nums[1:7:2])\n",
        "print(nums[-7:5])\n",
        "print(nums[-0])\n",
        "# list는 얼마든지 연필로 쓴 것이기 때문에 바꿀 수 있다."
      ],
      "metadata": {
        "colab": {
          "base_uri": "https://localhost:8080/"
        },
        "id": "Nr6voQDNjJPH",
        "outputId": "d088af98-ab2b-470a-8dec-f4d23e0fd4ef"
      },
      "execution_count": null,
      "outputs": [
        {
          "output_type": "stream",
          "name": "stdout",
          "text": [
            "[2]\n",
            "[0, 1, 2, 3]\n",
            "[6, 7, 8, 9]\n",
            "[1, 3, 5]\n",
            "[3, 4]\n",
            "0\n"
          ]
        }
      ]
    },
    {
      "cell_type": "code",
      "source": [
        "#list slice 안에 list를 집어넣기"
      ],
      "metadata": {
        "id": "-EIt629wjJRT"
      },
      "execution_count": null,
      "outputs": []
    },
    {
      "cell_type": "code",
      "source": [
        "nums= [0,1,2,3,4,5,6,7,8,9]\n",
        "nums[2:5]=[20,30,40]\n",
        "nums[6:8]=[90,91,92,93,94]\n",
        "print(nums)"
      ],
      "metadata": {
        "colab": {
          "base_uri": "https://localhost:8080/"
        },
        "id": "rMH623ZnjJTw",
        "outputId": "7cbe7e1c-b90c-4ab8-cbea-738de1c55124"
      },
      "execution_count": null,
      "outputs": [
        {
          "output_type": "stream",
          "name": "stdout",
          "text": [
            "[0, 1, 20, 30, 40, 5, 90, 91, 92, 93, 94, 8, 9]\n"
          ]
        }
      ]
    },
    {
      "cell_type": "code",
      "source": [
        "nums= [0,1,2,3,4,5,6,7,8,9]\n",
        "nums[2:5]=[]\n",
        "print(nums)\n",
        "del nums[4]\n",
        "print(nums)"
      ],
      "metadata": {
        "colab": {
          "base_uri": "https://localhost:8080/"
        },
        "id": "eIDMjSl9kHmz",
        "outputId": "69a6c3a3-6314-4c68-abfe-69cd983efb87"
      },
      "execution_count": null,
      "outputs": [
        {
          "output_type": "stream",
          "name": "stdout",
          "text": [
            "[0, 1, 5, 6, 7, 8, 9]\n",
            "[0, 1, 5, 6, 8, 9]\n"
          ]
        }
      ]
    },
    {
      "cell_type": "code",
      "source": [
        "list1=[1,2,3,4,5]\n",
        "list2=[10,11]\n",
        "list1=list1+list2\n",
        "listadd=list1+list2\n",
        "print(list1)\n",
        "print(listadd)\n",
        "listmulti=list2*3\n",
        "print(listmulti)"
      ],
      "metadata": {
        "colab": {
          "base_uri": "https://localhost:8080/"
        },
        "id": "4npVLYU7kHoy",
        "outputId": "106142fe-a295-4b46-fb1e-d571e4bb5cc8"
      },
      "execution_count": null,
      "outputs": [
        {
          "output_type": "stream",
          "name": "stdout",
          "text": [
            "[1, 2, 3, 4, 5, 10, 11]\n",
            "[1, 2, 3, 4, 5, 10, 11, 10, 11]\n",
            "[10, 11, 10, 11, 10, 11]\n"
          ]
        }
      ]
    },
    {
      "cell_type": "code",
      "source": [
        "for i in range(0,len(list2)):\n",
        "    list2[i]=list2[i]*3\n",
        "print(list2)"
      ],
      "metadata": {
        "colab": {
          "base_uri": "https://localhost:8080/"
        },
        "id": "FzqFBhi9FJ-A",
        "outputId": "dd12bc85-521e-42ef-c3ae-c17bab011d9b"
      },
      "execution_count": null,
      "outputs": [
        {
          "output_type": "stream",
          "name": "stdout",
          "text": [
            "[30, 33]\n"
          ]
        }
      ]
    },
    {
      "cell_type": "code",
      "source": [
        "lol=[ [1,2,3],[4,5],[6,7,8,9]]\n",
        "print(lol[0])\n",
        "print(lol[2][1])\n",
        "for sub in lol:\n",
        "  for item in sub:\n",
        "    print(item, end=' ')\n",
        "  print()"
      ],
      "metadata": {
        "colab": {
          "base_uri": "https://localhost:8080/"
        },
        "id": "5SfLxyhQkHtM",
        "outputId": "745dd56a-00ce-4d92-a14b-6650203956b7"
      },
      "execution_count": null,
      "outputs": [
        {
          "output_type": "stream",
          "name": "stdout",
          "text": [
            "[1, 2, 3]\n",
            "7\n",
            "1 2 3 \n",
            "4 5 \n",
            "6 7 8 9 \n"
          ]
        }
      ]
    },
    {
      "cell_type": "code",
      "source": [
        "nums=[1,2,3,4]\n",
        "nums.append(5)\n",
        "nums.insert(2,99)\n",
        "print(nums)\n",
        "nums.pop(2)\n",
        "print(nums)"
      ],
      "metadata": {
        "colab": {
          "base_uri": "https://localhost:8080/"
        },
        "id": "Pu23CAQYzdfx",
        "outputId": "438200dc-4d8b-45f4-ae22-5c87e0417d47"
      },
      "execution_count": null,
      "outputs": [
        {
          "output_type": "stream",
          "name": "stdout",
          "text": [
            "[1, 2, 99, 3, 4, 5]\n",
            "[1, 2, 3, 4, 5]\n"
          ]
        }
      ]
    },
    {
      "cell_type": "code",
      "source": [
        "nums=[1,2,3,4]\n",
        "nums[2:2]=[90,91,92]\n",
        "print(nums)\n",
        "nums=[1,2,3,4]\n",
        "nums[2]=[90,91,92]\n",
        "print(nums)"
      ],
      "metadata": {
        "colab": {
          "base_uri": "https://localhost:8080/"
        },
        "id": "akU3-n_p0PU-",
        "outputId": "0cebc062-057e-4d18-9c0e-3bcda6833ce4"
      },
      "execution_count": null,
      "outputs": [
        {
          "output_type": "stream",
          "name": "stdout",
          "text": [
            "[1, 2, 90, 91, 92, 3, 4]\n",
            "[1, 2, [90, 91, 92], 4]\n"
          ]
        }
      ]
    },
    {
      "cell_type": "code",
      "source": [
        "list1=[1,2,3,4,5]\n",
        "list2=[10,11]\n",
        "list1.extend(list2)\n",
        "print(list1)\n",
        "list3=list1+list2\n",
        "print(list3)\n",
        "print(list1)"
      ],
      "metadata": {
        "colab": {
          "base_uri": "https://localhost:8080/"
        },
        "id": "K15prjys1WcJ",
        "outputId": "86197dfa-c6d9-4430-8785-9a601e5969d3"
      },
      "execution_count": null,
      "outputs": [
        {
          "output_type": "stream",
          "name": "stdout",
          "text": [
            "[1, 2, 3, 4, 5, 10, 11]\n",
            "[1, 2, 3, 4, 5, 10, 11, 10, 11]\n",
            "[1, 2, 3, 4, 5, 10, 11]\n"
          ]
        }
      ]
    },
    {
      "cell_type": "code",
      "source": [
        "print(list1)\n",
        "list1=list1+list2\n",
        "print(list1)"
      ],
      "metadata": {
        "colab": {
          "base_uri": "https://localhost:8080/"
        },
        "id": "URzM3Na-2hEt",
        "outputId": "04d5bec7-fcab-4abf-956f-46542fca7fb0"
      },
      "execution_count": null,
      "outputs": [
        {
          "output_type": "stream",
          "name": "stdout",
          "text": [
            "[1, 2, 3, 4, 5, 10, 11]\n",
            "[1, 2, 3, 4, 5, 10, 11, 10, 11]\n"
          ]
        }
      ]
    },
    {
      "cell_type": "code",
      "source": [
        "score=[88,95,70,100,99,80,78,50]\n",
        "score.remove(100)\n",
        "print(score)\n",
        "del(score[2])\n",
        "print(score)\n",
        "score[1:4]=[]\n",
        "print(score)\n",
        "score.clear()\n",
        "print(score)\n",
        "score=[88,95,70,100,99,80,78,50]\n",
        "print(score)\n",
        "score[:]=[]# score.clear()와 같다.\n",
        "print(score)\n",
        "score=[88,95,70,100,99,80,78,50]\n",
        "print(score)\n",
        "del score[:]# score.clear()와 같다.\n",
        "print(score)"
      ],
      "metadata": {
        "colab": {
          "base_uri": "https://localhost:8080/"
        },
        "id": "Z6ifjoxB4kAs",
        "outputId": "68520e9f-2063-427d-c29b-0dd8e55b0092"
      },
      "execution_count": null,
      "outputs": [
        {
          "output_type": "stream",
          "name": "stdout",
          "text": [
            "[88, 95, 70, 99, 80, 78, 50]\n",
            "[88, 95, 99, 80, 78, 50]\n",
            "[88, 78, 50]\n",
            "[]\n",
            "[88, 95, 70, 100, 99, 80, 78, 50]\n",
            "[]\n",
            "[88, 95, 70, 100, 99, 80, 78, 50]\n",
            "[]\n"
          ]
        }
      ]
    },
    {
      "cell_type": "code",
      "source": [
        "score=[88,95,70,100,99,22,33,44,55,66]\n",
        "print(score.pop())\n",
        "x=score.pop()\n",
        "print(x)\n",
        "print(score.pop())\n",
        "print(score.pop(1))\n",
        "print(score.pop(-1))\n",
        "print(score.pop(-1))\n",
        "score.append(77)\n",
        "print(score)"
      ],
      "metadata": {
        "id": "zX2qAJs16UoT",
        "colab": {
          "base_uri": "https://localhost:8080/"
        },
        "outputId": "9a9d43a9-2aba-4d47-a960-0109303c03b4"
      },
      "execution_count": null,
      "outputs": [
        {
          "output_type": "stream",
          "name": "stdout",
          "text": [
            "66\n",
            "55\n",
            "44\n",
            "95\n",
            "33\n",
            "22\n",
            "[88, 70, 100, 99, 77]\n"
          ]
        }
      ]
    },
    {
      "cell_type": "code",
      "source": [
        "score=[88,95,70,100,99,80,78,50]\n",
        "perfect=score.index(100)\n",
        "print(\"만점 받은 학생은\"+str(perfect)+\"번 입니다.\")\n",
        "pernum=score.count(100)\n",
        "print(\"만점 받은 학생은\"+str(pernum)+\"명 입니다.\")"
      ],
      "metadata": {
        "colab": {
          "base_uri": "https://localhost:8080/"
        },
        "id": "AScMhk7eBlRg",
        "outputId": "fb4f025e-8966-4d74-ce00-0ca4e9f10a8d"
      },
      "execution_count": null,
      "outputs": [
        {
          "output_type": "stream",
          "name": "stdout",
          "text": [
            "만점 받은 학생은3번 입니다.\n",
            "만점 받은 학생은1명 입니다.\n"
          ]
        }
      ]
    },
    {
      "cell_type": "code",
      "source": [
        "print(\"학생 수는 %d명 입니다\"%len(score))\n",
        "print(\"최고 점수는 %d점 입니다\"% max(score))\n",
        "print(\"최저 점수는 %d점 입니다\"% min(score))"
      ],
      "metadata": {
        "colab": {
          "base_uri": "https://localhost:8080/"
        },
        "id": "ph6lx1ktCCS4",
        "outputId": "6c99ba8e-b8f3-4c3b-de3c-4aeffe10769a"
      },
      "execution_count": null,
      "outputs": [
        {
          "output_type": "stream",
          "name": "stdout",
          "text": [
            "학생 수는 8명 입니다\n",
            "최고 점수는 100점 입니다\n",
            "최저 점수는 50점 입니다\n"
          ]
        }
      ]
    },
    {
      "cell_type": "code",
      "source": [
        "ans= input(\"결제하시겠습니까?\")\n",
        "if ans in ['yes','y','ok','예','당근']:\n",
        "  print(\"구입해 주셔서 감사합니다\")\n",
        "else:\n",
        "  print(\"안녕히 가세요\")"
      ],
      "metadata": {
        "colab": {
          "base_uri": "https://localhost:8080/"
        },
        "id": "lrL1S0zcDlkY",
        "outputId": "95b033e3-ff89-49da-a185-0d38d4485856"
      },
      "execution_count": null,
      "outputs": [
        {
          "output_type": "stream",
          "name": "stdout",
          "text": [
            "결제하시겠습니까?예\n",
            "구입해 주셔서 감사합니다\n"
          ]
        }
      ]
    },
    {
      "cell_type": "code",
      "source": [
        "score=[88,95,70,100,99]\n",
        "score2=sorted(score)\n",
        "print(score)\n",
        "print(score2)\n"
      ],
      "metadata": {
        "colab": {
          "base_uri": "https://localhost:8080/"
        },
        "id": "2qQTnFtiEapd",
        "outputId": "48e2f2c2-a2a6-4804-c329-d76196d44611"
      },
      "execution_count": null,
      "outputs": [
        {
          "output_type": "stream",
          "name": "stdout",
          "text": [
            "[88, 95, 70, 100, 99]\n",
            "[70, 88, 95, 99, 100]\n"
          ]
        }
      ]
    },
    {
      "cell_type": "code",
      "source": [
        "country =[\"Korea\",\"Japan\",\"CHINA\",\"America\"]\n",
        "country.sort()\n",
        "print(country)\n",
        "country.sort(key=str.lower)\n",
        "print(country)"
      ],
      "metadata": {
        "colab": {
          "base_uri": "https://localhost:8080/"
        },
        "id": "YlM-p5nTGg35",
        "outputId": "5f6771e1-8505-46e6-b4e6-672fa1def4d9"
      },
      "execution_count": null,
      "outputs": [
        {
          "output_type": "stream",
          "name": "stdout",
          "text": [
            "['America', 'CHINA', 'Japan', 'Korea']\n",
            "['America', 'CHINA', 'Japan', 'Korea']\n"
          ]
        }
      ]
    },
    {
      "cell_type": "code",
      "source": [
        "score=(88,95,70,100,99)\n",
        "sum=0\n",
        "for s in score:\n",
        "  sum+=s\n",
        "print(\"총점 :\",sum)\n",
        "print(\"평균 :\",sum/len(score))"
      ],
      "metadata": {
        "colab": {
          "base_uri": "https://localhost:8080/"
        },
        "id": "BlaM394xHhIR",
        "outputId": "65b1e578-ed48-4736-f8ed-1bab2f429b5b"
      },
      "execution_count": null,
      "outputs": [
        {
          "output_type": "stream",
          "name": "stdout",
          "text": [
            "총점 : 452\n",
            "평균 : 90.4\n"
          ]
        }
      ]
    },
    {
      "cell_type": "code",
      "source": [
        "tu=2,\n",
        "value=2\n",
        "value1=(2)\n",
        "value2=(2,)\n",
        "value3=2,3\n",
        "print(tu)\n",
        "print(value)"
      ],
      "metadata": {
        "colab": {
          "base_uri": "https://localhost:8080/"
        },
        "id": "yRvBwFtpIq1J",
        "outputId": "e4935008-c4bb-4dc3-ac99-8dc07352f09f"
      },
      "execution_count": null,
      "outputs": [
        {
          "output_type": "stream",
          "name": "stdout",
          "text": [
            "(2,)\n",
            "2\n"
          ]
        }
      ]
    },
    {
      "cell_type": "code",
      "source": [
        "tu= \"이순신\", \"김유신\", \"강감찬\"\n",
        "lee, kim, kang= tu\n",
        "print(lee)\n",
        "print(kang)\n",
        "print(kim)"
      ],
      "metadata": {
        "colab": {
          "base_uri": "https://localhost:8080/"
        },
        "id": "LZFMo0-GKDz5",
        "outputId": "ee227935-45fc-4b5b-a888-e107960f477e"
      },
      "execution_count": null,
      "outputs": [
        {
          "output_type": "stream",
          "name": "stdout",
          "text": [
            "이순신\n",
            "강감찬\n",
            "김유신\n"
          ]
        }
      ]
    },
    {
      "cell_type": "code",
      "source": [
        "a,b =12,34\n",
        "print(a,b)\n",
        "a,b=b,a\n",
        "print(a,b)"
      ],
      "metadata": {
        "colab": {
          "base_uri": "https://localhost:8080/"
        },
        "id": "uZbwIUtuNuWX",
        "outputId": "5638b718-e3ec-46ac-cf16-7bfbb3199afb"
      },
      "execution_count": null,
      "outputs": [
        {
          "output_type": "stream",
          "name": "stdout",
          "text": [
            "12 34\n",
            "34 12\n"
          ]
        }
      ]
    },
    {
      "cell_type": "code",
      "source": [
        "tu= tuple(score)\n",
        "print(tu)\n",
        "li= list(tu)\n",
        "li[0]=100\n",
        "print(li)"
      ],
      "metadata": {
        "colab": {
          "base_uri": "https://localhost:8080/"
        },
        "id": "24XM5mwFOjzU",
        "outputId": "22b2b72c-1617-4d3e-ce12-e2add278de56"
      },
      "execution_count": null,
      "outputs": [
        {
          "output_type": "stream",
          "name": "stdout",
          "text": [
            "(88, 95, 70, 100, 99)\n",
            "[100, 95, 70, 100, 99]\n"
          ]
        }
      ]
    },
    {
      "cell_type": "code",
      "source": [
        "d, m= divmod(7,3)\n",
        "print(\"몫\",d)\n",
        "print(\"나머지\",m)"
      ],
      "metadata": {
        "colab": {
          "base_uri": "https://localhost:8080/"
        },
        "id": "RtrZrQJ9QGLB",
        "outputId": "bce54c1e-08d3-4567-e4df-5c9a60187d1b"
      },
      "execution_count": null,
      "outputs": [
        {
          "output_type": "stream",
          "name": "stdout",
          "text": [
            "몫 2\n",
            "나머지 1\n"
          ]
        }
      ]
    },
    {
      "cell_type": "code",
      "source": [
        "dic={'boy':'소년','school':'학교','book':'책'}\n",
        "print(dic['boy'])\n",
        "print(dic['book'])\n",
        "w= input(\"문자를 입력하시오.\")\n",
        "if w not in dic:\n",
        "  print(\"이것은 사전에 없는 단어입니다.\")"
      ],
      "metadata": {
        "colab": {
          "base_uri": "https://localhost:8080/"
        },
        "id": "DWFl_cSsQkqh",
        "outputId": "cf7e2392-12f6-4ccb-d5e7-adb9a32cd59d"
      },
      "execution_count": null,
      "outputs": [
        {
          "output_type": "stream",
          "name": "stdout",
          "text": [
            "소년\n",
            "책\n",
            "문자를 입력하시오.fl\n",
            "이것은 사전에 없는 단어입니다.\n"
          ]
        }
      ]
    },
    {
      "cell_type": "code",
      "source": [
        "dic= {'boy':'소년','school':'학교','book':'책'}\n",
        "dic['boy']='남자애'\n",
        "dic['girl']='소녀'\n",
        "del dic['book']\n",
        "print(dic)"
      ],
      "metadata": {
        "colab": {
          "base_uri": "https://localhost:8080/"
        },
        "id": "IHm_rTx4RSHd",
        "outputId": "62593e96-d04c-4a2e-fbe0-5da3483664dc"
      },
      "execution_count": null,
      "outputs": [
        {
          "output_type": "stream",
          "name": "stdout",
          "text": [
            "{'boy': '남자애', 'school': '학교', 'girl': '소녀'}\n"
          ]
        }
      ]
    },
    {
      "cell_type": "code",
      "source": [
        "print(dic.keys)\n",
        "print(dic.values)\n",
        "print(dic.items)\n",
        "dic2={'student':'학생',\"teacher\":\"선생님\",\"book\":\"서적\"}\n",
        "dic.update(dic2)\n",
        "print(dic2)"
      ],
      "metadata": {
        "colab": {
          "base_uri": "https://localhost:8080/"
        },
        "id": "DeY66BydU_ua",
        "outputId": "5a6b4935-30d6-41c3-8b6a-aa6cdc514874"
      },
      "execution_count": null,
      "outputs": [
        {
          "output_type": "stream",
          "name": "stdout",
          "text": [
            "<built-in method keys of dict object at 0x7f51e352bbe0>\n",
            "<built-in method values of dict object at 0x7f51e352bbe0>\n",
            "<built-in method items of dict object at 0x7f51e352bbe0>\n",
            "{'student': '학생', 'teacher': '선생님', 'book': '서적'}\n"
          ]
        }
      ]
    },
    {
      "cell_type": "code",
      "source": [
        "li=[['boy','소년'],['school','학교'],['book','책']]\n",
        "dic=dict(li)\n",
        "print(dic)\n",
        "li1=list(dic)\n",
        "print(li1)"
      ],
      "metadata": {
        "colab": {
          "base_uri": "https://localhost:8080/"
        },
        "id": "SNbcqGX8Wbv0",
        "outputId": "4895459b-34b6-4cef-ef72-ea4e8b9613fe"
      },
      "execution_count": null,
      "outputs": [
        {
          "output_type": "stream",
          "name": "stdout",
          "text": [
            "{'boy': '소년', 'school': '학교', 'book': '책'}\n",
            "['boy', 'school', 'book']\n"
          ]
        }
      ]
    },
    {
      "cell_type": "code",
      "source": [
        "song= \"\"\"By the rivers of Babylon \n",
        "there he sat down,yeah he wept,when he remembered Zion,when the wicked carried us away in captivity\n",
        "required from us a song now How can we sing lord's song in a strange land\"\"\""
      ],
      "metadata": {
        "id": "dtUcnaLhKEMQ"
      },
      "execution_count": null,
      "outputs": []
    },
    {
      "cell_type": "code",
      "source": [
        "alphabet= dict()\n",
        "alphabet={}\n",
        "for c in song:\n",
        "  if c.isalpha()==False:\n",
        "    continue\n",
        "  c=c.lower()\n",
        "  if c not in alphabet:\n",
        "    alphabet[c]=1\n",
        "  else:\n",
        "    alphabet[c]+=1\n",
        "print(alphabet)"
      ],
      "metadata": {
        "colab": {
          "base_uri": "https://localhost:8080/"
        },
        "id": "D5v7Mxs4Kxi_",
        "outputId": "a988e1d3-94c3-4ed7-92fd-274012afc787"
      },
      "execution_count": null,
      "outputs": [
        {
          "output_type": "stream",
          "name": "stdout",
          "text": [
            "{'b': 4, 'y': 5, 't': 8, 'h': 10, 'e': 22, 'r': 12, 'i': 10, 'v': 2, 's': 9, 'o': 10, 'f': 2, 'a': 12, 'l': 3, 'n': 14, 'd': 7, 'w': 9, 'p': 2, 'm': 3, 'z': 1, 'c': 4, 'k': 1, 'u': 3, 'q': 1, 'g': 4}\n"
          ]
        }
      ]
    },
    {
      "cell_type": "code",
      "source": [
        "key=list(alphabet.keys())\n",
        "key.sort()\n",
        "for c in key:\n",
        "  num=alphabet[c]\n",
        "  print(c,\"=>\",num)"
      ],
      "metadata": {
        "colab": {
          "base_uri": "https://localhost:8080/"
        },
        "id": "k3aj89tsLxHo",
        "outputId": "a94da4ba-f2c1-438a-f2b8-145e50fc2bbb"
      },
      "execution_count": null,
      "outputs": [
        {
          "output_type": "stream",
          "name": "stdout",
          "text": [
            "a => 12\n",
            "b => 4\n",
            "c => 4\n",
            "d => 7\n",
            "e => 22\n",
            "f => 2\n",
            "g => 4\n",
            "h => 10\n",
            "i => 10\n",
            "k => 1\n",
            "l => 3\n",
            "m => 3\n",
            "n => 14\n",
            "o => 10\n",
            "p => 2\n",
            "q => 1\n",
            "r => 12\n",
            "s => 9\n",
            "t => 8\n",
            "u => 3\n",
            "v => 2\n",
            "w => 9\n",
            "y => 5\n",
            "z => 1\n"
          ]
        }
      ]
    },
    {
      "cell_type": "code",
      "source": [
        "asia={'korea','china','japan','Mongolia'}\n",
        "asia.add('vietnam')\n",
        "asia.add('china')\n",
        "asia.remove('japan')\n",
        "print(asia)"
      ],
      "metadata": {
        "colab": {
          "base_uri": "https://localhost:8080/"
        },
        "id": "R64vlGjhORA5",
        "outputId": "1465a857-b3ce-4975-8282-f072ed6919db"
      },
      "execution_count": null,
      "outputs": [
        {
          "output_type": "stream",
          "name": "stdout",
          "text": [
            "{'korea', 'Mongolia', 'china', 'vietnam'}\n"
          ]
        }
      ]
    },
    {
      "cell_type": "code",
      "source": [
        "print(set(\"sanghyung\"))\n",
        "print(set([12,34,56,78]))\n",
        "print(set([\"신지희\",\"한주완\",\"김태륜\"]))\n",
        "print(set({'boy':'소년','school':'학교','book':'책'}))\n",
        "print(set())"
      ],
      "metadata": {
        "colab": {
          "base_uri": "https://localhost:8080/"
        },
        "id": "EZXLPSIpOYMA",
        "outputId": "aa81ea76-a27c-4739-ac38-162ff18db6fa"
      },
      "execution_count": null,
      "outputs": [
        {
          "output_type": "stream",
          "name": "stdout",
          "text": [
            "{'n', 'u', 'g', 'h', 'a', 's', 'y'}\n",
            "{56, 34, 12, 78}\n",
            "{'신지희', '한주완', '김태륜'}\n",
            "{'book', 'school', 'boy'}\n",
            "set()\n"
          ]
        }
      ]
    },
    {
      "cell_type": "code",
      "source": [
        "twox={2,4,6,8,10,12}\n",
        "threex={3,6,9,12,15}\n",
        "print(\"교집합\",twox& threex)\n",
        "print(\"합집합\",twox|threex)\n",
        "print(\"차집합\",twox-threex)\n",
        "print(\"차집합\",threex-twox)\n",
        "print(\"배타적 차집합\",twox^threex)"
      ],
      "metadata": {
        "colab": {
          "base_uri": "https://localhost:8080/"
        },
        "id": "8yeHIw2rO2cX",
        "outputId": "13993f8d-1332-4770-f64d-355a487a3a21"
      },
      "execution_count": null,
      "outputs": [
        {
          "output_type": "stream",
          "name": "stdout",
          "text": [
            "교집합 {12, 6}\n",
            "합집합 {2, 3, 4, 6, 8, 9, 10, 12, 15}\n",
            "차집합 {8, 2, 10, 4}\n",
            "차집합 {9, 3, 15}\n",
            "배타적 차집합 {2, 3, 4, 8, 9, 10, 15}\n"
          ]
        }
      ]
    },
    {
      "cell_type": "code",
      "source": [
        "mammal={'코끼리','고릴라','사자','고래','사람','원숭이','개'}\n",
        "primate={'고릴라','사람','원숭이'}\n",
        "if '사자' in mammal:\n",
        "  print(\"사자는 포유류이다.\")\n",
        "else:\n",
        "  print(\"사자는 포유류가 아니다.\")\n",
        "\n",
        "print(primate<=mammal)\n",
        "print(primate<mammal)\n",
        "print(primate<=primate)\n",
        "print(primate<primate)\n"
      ],
      "metadata": {
        "colab": {
          "base_uri": "https://localhost:8080/"
        },
        "id": "AnqQt6I8S5US",
        "outputId": "7faf185f-c303-4d45-e948-8dfda4e4de38"
      },
      "execution_count": null,
      "outputs": [
        {
          "output_type": "stream",
          "name": "stdout",
          "text": [
            "사자는 포유류이다.\n",
            "True\n",
            "True\n",
            "True\n",
            "False\n"
          ]
        }
      ]
    },
    {
      "cell_type": "code",
      "source": [
        "mammal={'코끼리','고릴라','사자','고래','사람','원숭이','개'}\n",
        "primate={'고릴라','사람','원숭이'}\n",
        "if '사자' in mammal:\n",
        "  print(\"사자는 포유류이다.\")\n",
        "else:\n",
        "  print(\"사자는 포유류가 아니다.\")\n",
        "\n",
        "print(primate<=mammal)\n",
        "print(primate<mammal)\n",
        "print(mammal<primate)\n",
        "print(primate<=primate)\n",
        "print(primate<primate)\n"
      ],
      "metadata": {
        "colab": {
          "base_uri": "https://localhost:8080/"
        },
        "id": "K3UAnYEARKPa",
        "outputId": "e61606e9-084d-4126-9cbc-0c139e85a26d"
      },
      "execution_count": null,
      "outputs": [
        {
          "output_type": "stream",
          "name": "stdout",
          "text": [
            "사자는 포유류이다.\n",
            "True\n",
            "True\n",
            "False\n",
            "True\n",
            "False\n"
          ]
        }
      ]
    },
    {
      "cell_type": "code",
      "source": [
        "a=[(x,y,z)for x in range(1,30) for y in range(x,30) for z in range(y,30)if x**2+ y**2==z**2]\n",
        "print(a)"
      ],
      "metadata": {
        "colab": {
          "base_uri": "https://localhost:8080/"
        },
        "id": "kX7sDnvOTF21",
        "outputId": "08ac86bb-347c-4bef-cf53-1115bd84061c"
      },
      "execution_count": null,
      "outputs": [
        {
          "output_type": "stream",
          "name": "stdout",
          "text": [
            "[(3, 4, 5), (5, 12, 13), (6, 8, 10), (7, 24, 25), (8, 15, 17), (9, 12, 15), (10, 24, 26), (12, 16, 20), (15, 20, 25), (20, 21, 29)]\n"
          ]
        }
      ]
    },
    {
      "cell_type": "code",
      "source": [
        "new=[]\n",
        "for x in range(1,30):\n",
        "  for y in range(x,30):\n",
        "    for z in range(y,30):\n",
        "      if x**2+y**2== z**2:\n",
        "        new.append((x,y,z))\n",
        "print(new)"
      ],
      "metadata": {
        "colab": {
          "base_uri": "https://localhost:8080/"
        },
        "id": "Y_rK7ebSXET3",
        "outputId": "cef1dd67-ce02-4d85-aca7-50d056a71c3d"
      },
      "execution_count": null,
      "outputs": [
        {
          "output_type": "stream",
          "name": "stdout",
          "text": [
            "[(3, 4, 5), (5, 12, 13), (6, 8, 10), (7, 24, 25), (8, 15, 17), (9, 12, 15), (10, 24, 26), (12, 16, 20), (15, 20, 25), (20, 21, 29)]\n"
          ]
        }
      ]
    },
    {
      "cell_type": "code",
      "source": [
        "menu=0\n",
        "friend=[]\n",
        "while menu!=9:\n",
        "  print(\"---------------\")\n",
        "  print(\"1. 친구 리스트 출력\")\n",
        "  print(\"2. 친구 추가\")\n",
        "  print(\"3. 친구 삭제\")\n",
        "  print(\"4. 이름 변경\")\n",
        "  print(\"5. 종료\")\n",
        "\n",
        "  menu=int(input(\"메뉴를 선택하시오 :\"))\n",
        "  if menu==1:\n",
        "    print(friend)\n",
        "  elif menu==2:\n",
        "    name=input(\"이름을 입력하시오.:\")\n",
        "    friend.append(name)\n",
        "  elif menu==3:\n",
        "    del_name=input(\"지우고 싶은 이름을 입력하시오.:\")\n",
        "    if del_name in friend:\n",
        "      friend.remove(del_name)\n",
        "    else:\n",
        "      print(\"이름이 발견되지 않았음\")\n",
        "  elif menu==4:\n",
        "    old_name=input(\"변경하고 싶은 이름을 입력하시오.:\")\n",
        "    if old_name in friend:\n",
        "      index= friend.index(old_name)\n",
        "      new_name=input(\"새로운 이름을 입력하시오.:\")\n",
        "      friends[index]=new_name\n",
        "    else:\n",
        "      print(\"이름이 발견되지 않았음\")\n",
        "  elif menu==5:\n",
        "    print(\"종료\")\n",
        "    break"
      ],
      "metadata": {
        "colab": {
          "base_uri": "https://localhost:8080/"
        },
        "id": "BrIV97KKXxHC",
        "outputId": "af7fcfeb-ce36-4190-ba30-106e0358c648"
      },
      "execution_count": null,
      "outputs": [
        {
          "output_type": "stream",
          "name": "stdout",
          "text": [
            "---------------\n",
            "1. 친구 리스트 출력\n",
            "2. 친구 추가\n",
            "3. 친구 삭제\n",
            "4. 이름 변경\n",
            "5. 종료\n",
            "메뉴를 선택하시오 :2\n",
            "이름을 입력하시오.:이장범\n",
            "---------------\n",
            "1. 친구 리스트 출력\n",
            "2. 친구 추가\n",
            "3. 친구 삭제\n",
            "4. 이름 변경\n",
            "5. 종료\n",
            "메뉴를 선택하시오 :2\n",
            "이름을 입력하시오.:김동주\n",
            "---------------\n",
            "1. 친구 리스트 출력\n",
            "2. 친구 추가\n",
            "3. 친구 삭제\n",
            "4. 이름 변경\n",
            "5. 종료\n",
            "메뉴를 선택하시오 :2\n",
            "이름을 입력하시오.:이장현\n",
            "---------------\n",
            "1. 친구 리스트 출력\n",
            "2. 친구 추가\n",
            "3. 친구 삭제\n",
            "4. 이름 변경\n",
            "5. 종료\n",
            "메뉴를 선택하시오 :3\n",
            "지우고 싶은 이름을 입력하시오.:신세라\n",
            "이름이 발견되지 않았음\n",
            "---------------\n",
            "1. 친구 리스트 출력\n",
            "2. 친구 추가\n",
            "3. 친구 삭제\n",
            "4. 이름 변경\n",
            "5. 종료\n",
            "메뉴를 선택하시오 :2\n",
            "이름을 입력하시오.:신세라\n",
            "---------------\n",
            "1. 친구 리스트 출력\n",
            "2. 친구 추가\n",
            "3. 친구 삭제\n",
            "4. 이름 변경\n",
            "5. 종료\n",
            "메뉴를 선택하시오 :3\n",
            "지우고 싶은 이름을 입력하시오.:신세라\n",
            "---------------\n",
            "1. 친구 리스트 출력\n",
            "2. 친구 추가\n",
            "3. 친구 삭제\n",
            "4. 이름 변경\n",
            "5. 종료\n",
            "메뉴를 선택하시오 :5\n",
            "종료\n"
          ]
        }
      ]
    },
    {
      "cell_type": "code",
      "source": [
        "english_dict=dict()\n",
        "\n",
        "english_dict['one']='하나'\n",
        "english_dict['two']='둘'\n",
        "english_dict['three']='셋'\n",
        "\n",
        "word=input(\"단어를 입력하시오.\")\n",
        "  \n",
        "print(english_dict.get(word,\"없음\"))"
      ],
      "metadata": {
        "id": "YwVkp6Zocmh8",
        "colab": {
          "base_uri": "https://localhost:8080/"
        },
        "outputId": "2c363ea3-7a47-4117-af04-6bbb5821aebd"
      },
      "execution_count": null,
      "outputs": [
        {
          "output_type": "stream",
          "name": "stdout",
          "text": [
            "단어를 입력하시오.one\n",
            "하나\n"
          ]
        }
      ]
    },
    {
      "cell_type": "code",
      "source": [
        "partyA=set([\"Park\",\"Kim\",\"Choi\"])\n",
        "partyB=set([\"Park\",\"Choi\"])\n",
        "print(\"2개의 파티에 모두 참석한 사람은 다음과 같습니다.\")"
      ],
      "metadata": {
        "colab": {
          "base_uri": "https://localhost:8080/"
        },
        "id": "sweGlRZFgdAp",
        "outputId": "a3b9a986-6056-4f9c-811d-923de9116a83"
      },
      "execution_count": null,
      "outputs": [
        {
          "output_type": "stream",
          "name": "stdout",
          "text": [
            "2개의 파티에 모두 참석한 사람은 다음과 같습니다.\n"
          ]
        }
      ]
    }
  ]
}