{
  "nbformat": 4,
  "nbformat_minor": 0,
  "metadata": {
    "colab": {
      "name": "data structure02.ipynb",
      "provenance": []
    },
    "kernelspec": {
      "name": "python3",
      "display_name": "Python 3"
    },
    "language_info": {
      "name": "python"
    }
  },
  "cells": [
    {
      "cell_type": "code",
      "execution_count": null,
      "metadata": {
        "colab": {
          "base_uri": "https://localhost:8080/"
        },
        "id": "IxEk-Xb7TnUT",
        "outputId": "4dee24df-7193-497e-d9db-21eb8ef591b3"
      },
      "outputs": [
        {
          "output_type": "stream",
          "name": "stdout",
          "text": [
            "55\n",
            "5050\n"
          ]
        }
      ],
      "source": [
        "# 자료구조의 연산 수행 방식\n",
        "def sum_sq(n):\n",
        "  s=0\n",
        "  for i in range(1,n+1):\n",
        "      s=s+i\n",
        "  return s\n",
        "print(sum_sq(10))\n",
        "print(sum_sq(100))"
      ]
    },
    {
      "cell_type": "code",
      "source": [
        "def sum_sq(n):\n",
        "  s=0\n",
        "  for i in range(1,n+1):\n",
        "    s+=i\n",
        "  return s\n",
        "print(sum_sq(10))\n",
        "print(sum_sq(100))"
      ],
      "metadata": {
        "colab": {
          "base_uri": "https://localhost:8080/"
        },
        "id": "ixM_oYa-YZYl",
        "outputId": "1e2e0e78-e320-46a3-d5b7-730fc3e77e43"
      },
      "execution_count": null,
      "outputs": [
        {
          "output_type": "stream",
          "name": "stdout",
          "text": [
            "55\n",
            "5050\n"
          ]
        }
      ]
    },
    {
      "cell_type": "code",
      "source": [
        "!pip3 install ColabTurtle\n",
        "from ColabTurtle.Turtle import *"
      ],
      "metadata": {
        "colab": {
          "base_uri": "https://localhost:8080/"
        },
        "id": "W7VKk0y_ka3t",
        "outputId": "3c582807-7316-44c8-e632-dc38dd9f30d3"
      },
      "execution_count": null,
      "outputs": [
        {
          "output_type": "stream",
          "name": "stdout",
          "text": [
            "Requirement already satisfied: ColabTurtle in /usr/local/lib/python3.7/dist-packages (2.1.0)\n"
          ]
        }
      ]
    },
    {
      "cell_type": "code",
      "source": [
        "def sum_n(n):\n",
        "  return n*(n+1)//2\n",
        "print(sum_n(10))\n",
        "print(sum_n(100))"
      ],
      "metadata": {
        "colab": {
          "base_uri": "https://localhost:8080/"
        },
        "id": "UpPZn4KWY8Ar",
        "outputId": "527d5c16-eee8-4755-e0fa-f3b630cc57a1"
      },
      "execution_count": null,
      "outputs": [
        {
          "output_type": "stream",
          "name": "stdout",
          "text": [
            "55\n",
            "5050\n"
          ]
        }
      ]
    },
    {
      "cell_type": "code",
      "source": [
        "def find_min(a):\n",
        "  n=len(a)\n",
        "  min_v=a[0]\n",
        "  for i in range(1,n):\n",
        "    if a[i]<min_v:\n",
        "      min_v=a[i]\n",
        "  return min_v\n",
        "\n",
        "v=[17,92,18,33,58,7,33,42]\n",
        "print(find_min(v))"
      ],
      "metadata": {
        "colab": {
          "base_uri": "https://localhost:8080/"
        },
        "id": "WtLv1UaBZNG-",
        "outputId": "80906d2a-55b0-45d8-ae8a-02a5d0190004"
      },
      "execution_count": null,
      "outputs": [
        {
          "output_type": "stream",
          "name": "stdout",
          "text": [
            "7\n"
          ]
        }
      ]
    },
    {
      "cell_type": "code",
      "source": [
        "def print_pairs(a):\n",
        "    n=len(a)\n",
        "    result= set()\n",
        "    for i in range(0,n+1):\n",
        "      for j in range(i+1,n):\n",
        "        if a[i]==a[j]:\n",
        "          result.add(a[i])\n",
        "\n",
        "    return result\n",
        "  \n",
        "name=[\"Tom\",\"Jerry\",\"Mike\",\"Tom\"]\n",
        "print(print_pairs(name))\n",
        "print()\n",
        "name2=[\"Tom\",\"Jerry\",\"Mike\",\"Tom\",\"Mike\"]\n",
        "print(print_pairs(name2))"
      ],
      "metadata": {
        "id": "rPSqmVlohBEl",
        "colab": {
          "base_uri": "https://localhost:8080/"
        },
        "outputId": "74c9027a-6498-4d77-9455-5164fb3a10d5"
      },
      "execution_count": null,
      "outputs": [
        {
          "output_type": "stream",
          "name": "stdout",
          "text": [
            "{'Tom'}\n",
            "\n",
            "{'Tom', 'Mike'}\n"
          ]
        }
      ]
    },
    {
      "cell_type": "code",
      "source": [
        "def fact(n):\n",
        "  if n<= 1:\n",
        "    return 1\n",
        "  return n *fact(n-1)\n",
        "print(fact(1))\n",
        "print(fact(5))\n",
        "print(fact(10))"
      ],
      "metadata": {
        "colab": {
          "base_uri": "https://localhost:8080/"
        },
        "id": "QDRG5nkRk7Z-",
        "outputId": "6462e8ea-dbe2-447e-92d0-6bbcb8634e9e"
      },
      "execution_count": null,
      "outputs": [
        {
          "output_type": "stream",
          "name": "stdout",
          "text": [
            "1\n",
            "120\n",
            "3628800\n"
          ]
        }
      ]
    },
    {
      "cell_type": "code",
      "source": [
        "def gcd(a,b):\n",
        "  i=min(a,b)\n",
        "  while True:\n",
        "    if a%i==0 and b%i==0:\n",
        "      return i\n",
        "    i-=1\n",
        "\n",
        "print(gcd(1,5))\n",
        "print(gcd(3,6))\n",
        "print(gcd(60,24))\n",
        "print(gcd(81,27))"
      ],
      "metadata": {
        "colab": {
          "base_uri": "https://localhost:8080/"
        },
        "id": "oGbNCwGKl7ef",
        "outputId": "e371751e-08d4-4e65-b742-6e90b29a7ba9"
      },
      "execution_count": null,
      "outputs": [
        {
          "output_type": "stream",
          "name": "stdout",
          "text": [
            "1\n",
            "3\n",
            "12\n",
            "27\n"
          ]
        }
      ]
    },
    {
      "cell_type": "code",
      "source": [
        "def gcd(a,b):\n",
        "  if b==0:\n",
        "    return a\n",
        "  return gcd(b,a%b)\n",
        "\n",
        "print(gcd(1,5))\n",
        "print(gcd(3,6))\n",
        "print(gcd(60,24))\n",
        "print(gcd(81,27))"
      ],
      "metadata": {
        "colab": {
          "base_uri": "https://localhost:8080/"
        },
        "id": "IEWbqX7QpDxU",
        "outputId": "b424849f-e585-4440-c70b-dd649bec9ca8"
      },
      "execution_count": null,
      "outputs": [
        {
          "output_type": "stream",
          "name": "stdout",
          "text": [
            "1\n",
            "3\n",
            "12\n",
            "27\n"
          ]
        }
      ]
    },
    {
      "cell_type": "code",
      "source": [
        "def hanoi(n, from_pos, to_pos, aux_pos):\n",
        "  if n==1:\n",
        "    print(from_pos, \"->\", to_pos)\n",
        "    return\n",
        "\n",
        "    hanoi(n-1, from_pos, aux_pos, to_pos)\n",
        "    print(from_pos, \"->\", to_pos)\n",
        "    hanoi(n-1,  aux_pos, to_pos,from_pos)\n",
        "    \n",
        "  print(\"n=1\")\n",
        "  hanoi(1,1,3,2)\n",
        "  print(\"n=2\")\n",
        "  hanoi(2,1,3,2)\n",
        "  print(\"n=3\")\n",
        "  hanoi(3,1,3,2)\n",
        "  print(\"n=4\")\n",
        "  hanoi(4,1,3,2)"
      ],
      "metadata": {
        "id": "W2eDMOdbbmG6"
      },
      "execution_count": null,
      "outputs": []
    },
    {
      "cell_type": "code",
      "source": [
        "# 탐색과 정렬\n",
        "def search_list(a,x):\n",
        "  n=len(a)\n",
        "  for i in range(0,n):\n",
        "    if x== a[i]:\n",
        "      return i\n",
        "  return -1\n",
        "v=[17,92,18,33,58,7,33,41]\n",
        "print(search_list(v,18))\n",
        "print(search_list(v,33))\n",
        "print(search_list(v,900))"
      ],
      "metadata": {
        "colab": {
          "base_uri": "https://localhost:8080/"
        },
        "id": "FI22o5WTiSox",
        "outputId": "e9ecd496-19a0-4060-cfee-e3b03161a57f"
      },
      "execution_count": null,
      "outputs": [
        {
          "output_type": "stream",
          "name": "stdout",
          "text": [
            "2\n",
            "3\n",
            "-1\n"
          ]
        }
      ]
    },
    {
      "cell_type": "code",
      "source": [
        "def selectionSort(alist):\n",
        "  for i in range(len(alist)):\n",
        "    minPos=getMinPos(alist,i)\n",
        "    temp= alist[minPos]\n",
        "    alist[minPos]=alist[i]\n",
        "    alist[i]=temp\n",
        "\n",
        "def getMinPos(alist, start):\n",
        "  minPos= start\n",
        "  for i in range(start+1, len(alist)):\n",
        "    if alist[i]<alist[minPos]:\n",
        "      minPos=i\n",
        "  return minPos\n",
        "alist=[1,4,5,9,8,2,7]\n",
        "selectionSort(alist)\n",
        "print(alist)"
      ],
      "metadata": {
        "colab": {
          "base_uri": "https://localhost:8080/"
        },
        "id": "2R9urBE-lsvu",
        "outputId": "08108aad-9249-4347-ef29-c63b06b50630"
      },
      "execution_count": null,
      "outputs": [
        {
          "output_type": "stream",
          "name": "stdout",
          "text": [
            "[1, 2, 4, 5, 7, 8, 9]\n"
          ]
        }
      ]
    },
    {
      "cell_type": "code",
      "source": [
        "def find_min_idx(a):\n",
        "  n=len(a)\n",
        "  min_idx=0\n",
        "  for i in range(1,n):\n",
        "    if a[i]<a[min_idx]:\n",
        "      min_idx=i\n",
        "  return min_idx\n",
        "\n",
        "def sel_sort(a):\n",
        "  result=[]\n",
        "  while a:\n",
        "    min_idx= find_min_idx(a)\n",
        "    value=a.pop(min_idx)\n",
        "    result.append(value)\n",
        "  return result\n",
        "d=[2,4,5,1,3]\n",
        "print(sel_sort(d))"
      ],
      "metadata": {
        "colab": {
          "base_uri": "https://localhost:8080/"
        },
        "id": "3DlWm_uDoL-V",
        "outputId": "cb97c671-d440-4d31-8fbd-9133e179e965"
      },
      "execution_count": null,
      "outputs": [
        {
          "output_type": "stream",
          "name": "stdout",
          "text": [
            "[1, 2, 3, 4, 5]\n"
          ]
        }
      ]
    },
    {
      "cell_type": "code",
      "source": [
        "def sel_sort(a):\n",
        "  n=len(a)\n",
        "  for i in range(0,n-1):\n",
        "    min_idx=i\n",
        "    for j in range(i+1,n):\n",
        "      if a[j]<a[min_idx]:\n",
        "        min_idx=j\n",
        "    a[i],a[min_idx]= a[min_idx], a[i]\n",
        "d=[2,4,5,1,3]\n",
        "sel_sort(d)\n",
        "print(d)"
      ],
      "metadata": {
        "id": "ET2oVv2Bptyd"
      },
      "execution_count": null,
      "outputs": []
    },
    {
      "cell_type": "code",
      "source": [
        "def find_ins_idx(r,v):\n",
        "  for i in range(0,len(r)):\n",
        "    if v <r[i]:\n",
        "      return i\n",
        "  return len(r)\n",
        "def ins_sort(a):\n",
        "    result=[]\n",
        "    while a:\n",
        "      value=a.pop(0)\n",
        "      ins_idx= find_ins_idx(result, value)\n",
        "      result.insert(ins_idx,value)\n",
        "    return result\n",
        "d=[2,4,5,1,3]\n",
        "print(ins_sort(d))"
      ],
      "metadata": {
        "colab": {
          "base_uri": "https://localhost:8080/"
        },
        "id": "bMlIPnjnvYhN",
        "outputId": "64da2f1d-2a45-421c-e4fe-469e09fc6a91"
      },
      "execution_count": null,
      "outputs": [
        {
          "output_type": "stream",
          "name": "stdout",
          "text": [
            "[1, 2, 3, 4, 5]\n"
          ]
        }
      ]
    },
    {
      "cell_type": "code",
      "source": [
        "def ins_sort(a):\n",
        "  n=len(a)\n",
        "  for i in range(1,n):\n",
        "    key=a[i]\n",
        "    j=i-1\n",
        "    while j>=0 and a[j]>key:\n",
        "      a[j+1]=a[j]\n",
        "      j-=1\n",
        "    a[j+1]=key\n",
        "d=[2,4,5,1,3]\n",
        "ins_sort(d)\n",
        "print(d)"
      ],
      "metadata": {
        "colab": {
          "base_uri": "https://localhost:8080/"
        },
        "id": "JYx2bHFSxYO9",
        "outputId": "aa6c8bc2-6d87-4b8e-a646-a0a401eb5375"
      },
      "execution_count": null,
      "outputs": [
        {
          "output_type": "stream",
          "name": "stdout",
          "text": [
            "[1, 2, 3, 4, 5]\n"
          ]
        }
      ]
    },
    {
      "cell_type": "code",
      "source": [
        "def find_same_name(a):\n",
        "  name_dict={}\n",
        "  for name in a:\n",
        "    if name in name_dict:\n",
        "      name_dict[name]+=1\n",
        "    else:\n",
        "      name_dict[name]=1\n",
        "    result= set()\n",
        "  for name in name_dict:\n",
        "     if name_dict[name]>=2:\n",
        "       result.add(name)\n",
        "  return result\n",
        "name=[\"Tom\",\"Jerry\",\"Mike\",\"Tom\"]\n",
        "print(find_same_name(name))\n",
        "name2=[\"Tom\",\"Jerry\",\"Mike\",\"Tom\",\"Mike\"]\n",
        "print(find_same_name(name2))"
      ],
      "metadata": {
        "id": "xG0Hqwmaqflp",
        "colab": {
          "base_uri": "https://localhost:8080/"
        },
        "outputId": "d907b1ff-b03a-440c-cbbf-387d5c292ef8"
      },
      "execution_count": null,
      "outputs": [
        {
          "output_type": "stream",
          "name": "stdout",
          "text": [
            "{'Tom'}\n",
            "{'Tom', 'Mike'}\n"
          ]
        }
      ]
    },
    {
      "cell_type": "code",
      "source": [
        "# 친구 리스트에서 자신의 모든 친구를 찾는 알고리즘\n",
        "# 입력 : 친구 관계 그래프 g, 모든 친구를 찾을 자신 start\n",
        "# 출력 : 모든 친구의 이름\n",
        "\n",
        "def print_all_friends(g,start):\n",
        "  qu=[] # 기억 장소1: 앞으로 처리해야 할 사람들을 큐에 저장\n",
        "  done= set()# 기억 장소2: 앞으로 처리해야 할 사람들을 집합에 기록(중복 방지)\n",
        "\n",
        "  qu.append(start)# 자신을 큐에 넣고 시작\n",
        "  done.add(start)# 집합에도 추가\n",
        "\n",
        "  while qu:\n",
        "    p=qu.pop(0) # 큐에 처리할 사람이 남아있는 동안\n",
        "    print(p)  # 큐에서 처리 대상을 한명 꺼내\n",
        "    for x in g[p]:# 이름을 출력하고\n",
        "      if x not in done:# 그 친구들 중에 아직 큐에 추가된 적이 없는 사람들을  큐에 추가하고, 집합에도 추가\n",
        "        qu.append(x)\n",
        "        done.add(x)\n",
        "\n",
        "        # 친구 관계 리스트 \n",
        "        # A와 B가 친구라면\n",
        "        # A의 친구 리스트에도 B가 나오고,B의 친구 리스트에도 A가 나옴\n",
        "fr_info= {\n",
        "    'Summer':['John', 'Justin','Mike'],\n",
        "    'John':['Summer','Justin'],\n",
        "    'Justin':['John', 'Summer','Mike','May'],\n",
        "    'Mike':['Summer','Justin'],\n",
        "    'May':[ 'Justin','Kim'],\n",
        "    'Kim':['May'],\n",
        "    'Tom':['Jerry'],\n",
        "    'Jerry':['Tom']\n",
        "}\n",
        "print_all_friends(fr_info,'Summer')\n",
        "print()\n",
        "print_all_friends(fr_info,'Jerry')"
      ],
      "metadata": {
        "colab": {
          "base_uri": "https://localhost:8080/"
        },
        "id": "ucn24N8TD4Vo",
        "outputId": "0ac7b07e-5204-4891-e6e6-7853774f028e"
      },
      "execution_count": null,
      "outputs": [
        {
          "output_type": "stream",
          "name": "stdout",
          "text": [
            "Summer\n",
            "John\n",
            "Justin\n",
            "Mike\n",
            "May\n",
            "Kim\n",
            "\n",
            "Jerry\n",
            "Tom\n"
          ]
        }
      ]
    },
    {
      "cell_type": "markdown",
      "source": [
        ""
      ],
      "metadata": {
        "id": "GTEv2ltGJpgK"
      }
    },
    {
      "cell_type": "code",
      "source": [
        "# 친구 리스트에서 자신의 모든 친구를 찾는 알고리즘\n",
        "# 입력 : 친구 관계 그래프 g, 모든 친구를 찾을 자신 start\n",
        "# 출력 : 모든 친구의 이름\n",
        "\n",
        "def print_all_friends(g,start):\n",
        "  qu=[] # 기억 장소1: 앞으로 처리해야 할 사람들을 큐에 저장\n",
        "  done= set()# 기억 장소2: 앞으로 처리해야 할 사람들을 집합에 기록(중복 방지)\n",
        "\n",
        "  qu.append((start,0))# 자신을 큐에 넣고 시작\n",
        "  done.add(start)# 집합에도 추가\n",
        "\n",
        "  while qu:\n",
        "    (p,d)=qu.pop(0) # 큐에 처리할 사람이 남아있는 동안\n",
        "    print(p,d)  # 큐에서 처리 대상을 한명 꺼내\n",
        "    for x in g[p]:# 이름을 출력하고\n",
        "      if x not in done:# 그 친구들 중에 아직 큐에 추가된 적이 없는 사람들을 \n",
        "        qu.append((x,d+1))# 친밀도를 1 증가시켜 큐에 추가하고\n",
        "        done.add(x)# 큐에 추가하고, 집합에도 추가\n",
        "\n",
        "        # 친구 관계 리스트 \n",
        "        # A와 B가 친구라면\n",
        "        # A의 친구 리스트에도 B가 나오고,B의 친구 리스트에도 A가 나옴\n",
        "fr_info= {\n",
        "    'Summer':['John', 'Justin','Mike'],\n",
        "    'John':['Summer','Justin'],\n",
        "    'Justin':['John', 'Summer','Mike','May'],\n",
        "    'Mike':['Summer','Justin'],\n",
        "    'May':[ 'Justin','Kim'],\n",
        "    'Kim':['May'],\n",
        "    'Tom':['Jerry'],\n",
        "    'Jerry':['Tom']\n",
        "}\n",
        "print_all_friends(fr_info,'Summer')\n",
        "print()\n",
        "print_all_friends(fr_info,'Jerry')"
      ],
      "metadata": {
        "colab": {
          "base_uri": "https://localhost:8080/"
        },
        "id": "a2DyZVm-I7iG",
        "outputId": "0bb7cfcb-65f5-4470-fe97-b451cacdef6c"
      },
      "execution_count": null,
      "outputs": [
        {
          "output_type": "stream",
          "name": "stdout",
          "text": [
            "Summer 0\n",
            "John 1\n",
            "Justin 1\n",
            "Mike 1\n",
            "May 2\n",
            "Kim 3\n",
            "\n",
            "Jerry 0\n",
            "Tom 1\n"
          ]
        }
      ]
    },
    {
      "cell_type": "code",
      "source": [
        "'''모든 친구 찾기 알고리즘\n",
        " 주어진 친구의 관계는 Tom 과 Jerry에서 두번 째 과정을 하지 않는다면  '''"
      ],
      "metadata": {
        "id": "VeZpI5kYLqtq",
        "colab": {
          "base_uri": "https://localhost:8080/",
          "height": 35
        },
        "outputId": "17a8d6e1-aff0-461c-d693-526886bcbe75"
      },
      "execution_count": 1,
      "outputs": [
        {
          "output_type": "execute_result",
          "data": {
            "application/vnd.google.colaboratory.intrinsic+json": {
              "type": "string"
            },
            "text/plain": [
              "'모든 친구 찾기 알고리즘\\n 주어진 친구의 관계는 '"
            ]
          },
          "metadata": {},
          "execution_count": 1
        }
      ]
    }
  ]
}